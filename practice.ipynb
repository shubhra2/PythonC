{
 "cells": [
  {
   "cell_type": "code",
   "execution_count": 2,
   "metadata": {},
   "outputs": [],
   "source": [
    "class User:\r\n",
    "    pass"
   ]
  },
  {
   "cell_type": "code",
   "execution_count": 5,
   "metadata": {},
   "outputs": [],
   "source": [
    "user1 = User()"
   ]
  },
  {
   "cell_type": "code",
   "execution_count": 6,
   "metadata": {},
   "outputs": [
    {
     "data": {
      "text/plain": [
       "<__main__.User at 0x1b364eac460>"
      ]
     },
     "execution_count": 6,
     "metadata": {},
     "output_type": "execute_result"
    }
   ],
   "source": [
    "user1"
   ]
  },
  {
   "cell_type": "code",
   "execution_count": 8,
   "metadata": {},
   "outputs": [
    {
     "data": {
      "text/plain": [
       "__main__.User"
      ]
     },
     "execution_count": 8,
     "metadata": {},
     "output_type": "execute_result"
    }
   ],
   "source": [
    "type(user1)"
   ]
  },
  {
   "cell_type": "code",
   "execution_count": 9,
   "metadata": {},
   "outputs": [],
   "source": [
    "class User:\r\n",
    "    def __init__(self, username, name, email):\r\n",
    "        self.username = username\r\n",
    "        self.name = name\r\n",
    "        self.email = email\r\n",
    "        print('User created!')"
   ]
  },
  {
   "cell_type": "code",
   "execution_count": 10,
   "metadata": {},
   "outputs": [
    {
     "name": "stdout",
     "output_type": "stream",
     "text": [
      "User created!\n"
     ]
    }
   ],
   "source": [
    "user2 = User('John', 'John Doe', 'JohnDoe@gmail.com')"
   ]
  },
  {
   "cell_type": "code",
   "execution_count": 11,
   "metadata": {},
   "outputs": [
    {
     "data": {
      "text/plain": [
       "<__main__.User at 0x1b36547f8e0>"
      ]
     },
     "execution_count": 11,
     "metadata": {},
     "output_type": "execute_result"
    }
   ],
   "source": [
    "user2"
   ]
  },
  {
   "cell_type": "code",
   "execution_count": 12,
   "metadata": {},
   "outputs": [
    {
     "data": {
      "text/plain": [
       "'John Doe'"
      ]
     },
     "execution_count": 12,
     "metadata": {},
     "output_type": "execute_result"
    }
   ],
   "source": [
    "user2.name"
   ]
  },
  {
   "cell_type": "code",
   "execution_count": 13,
   "metadata": {},
   "outputs": [
    {
     "data": {
      "text/plain": [
       "('JohnDoe@gmail.com', 'John')"
      ]
     },
     "execution_count": 13,
     "metadata": {},
     "output_type": "execute_result"
    }
   ],
   "source": [
    "user2.email, user2.username"
   ]
  },
  {
   "cell_type": "code",
   "execution_count": 20,
   "metadata": {},
   "outputs": [],
   "source": [
    "class User:\r\n",
    "    def __init__(self, username, name, email):\r\n",
    "        self.username = username\r\n",
    "        self.name = name\r\n",
    "        self.email = email\r\n",
    "    def introduce_yourself(self, guest_name):\r\n",
    "        print(\"Hi {}, I'm {}! Contact me at {}.\".format(guest_name, self.name, self.email))"
   ]
  },
  {
   "cell_type": "code",
   "execution_count": 21,
   "metadata": {},
   "outputs": [],
   "source": [
    "user3 = User('Jane', 'Jane Doe', 'JaneDoe@gmail.com')"
   ]
  },
  {
   "cell_type": "code",
   "execution_count": 22,
   "metadata": {},
   "outputs": [
    {
     "name": "stdout",
     "output_type": "stream",
     "text": [
      "Hi David, I'm Jane Doe! Contact me at JaneDoe@gmail.com.\n"
     ]
    }
   ],
   "source": [
    "user3.introduce_yourself('David')"
   ]
  },
  {
   "cell_type": "code",
   "execution_count": 23,
   "metadata": {},
   "outputs": [
    {
     "name": "stdout",
     "output_type": "stream",
     "text": [
      "Hi David, I'm Jane Doe! Contact me at JaneDoe@gmail.com.\n"
     ]
    }
   ],
   "source": [
    "User.introduce_yourself(user3, 'David')"
   ]
  },
  {
   "cell_type": "code",
   "execution_count": 33,
   "metadata": {},
   "outputs": [],
   "source": [
    "class User:\r\n",
    "    def __init__(self, username, name, email):\r\n",
    "        self.username = username\r\n",
    "        self.name = name\r\n",
    "        self.email = email\r\n",
    "    def __repr__(self):\r\n",
    "        return \"User(username = '{}', name = '{}', email = '{}'\".format(self.username, self.name, self.email)\r\n",
    "    def __str__(self):\r\n",
    "        return self.__repr__()"
   ]
  },
  {
   "cell_type": "code",
   "execution_count": 34,
   "metadata": {},
   "outputs": [
    {
     "data": {
      "text/plain": [
       "User(username = 'jane', name = 'Jane Doe', email = 'jane@doe.com'"
      ]
     },
     "execution_count": 34,
     "metadata": {},
     "output_type": "execute_result"
    }
   ],
   "source": [
    "user4 = User('jane', 'Jane Doe', 'jane@doe.com')\r\n",
    "user4"
   ]
  },
  {
   "cell_type": "code",
   "execution_count": 35,
   "metadata": {},
   "outputs": [],
   "source": [
    "class UserDatabase:\r\n",
    "    def insert(self, user):\r\n",
    "        pass\r\n",
    "    def find(self, username):\r\n",
    "        pass\r\n",
    "    def update(self, user):\r\n",
    "        pass\r\n",
    "    def list_all(self):\r\n",
    "        pass"
   ]
  },
  {
   "cell_type": "code",
   "execution_count": 36,
   "metadata": {},
   "outputs": [],
   "source": [
    "aakash = User('aakash', 'Aakash Rai', 'aakash@example.com')\r\n",
    "biraj = User('biraj', 'Biraj Das', 'biraj@example.com')\r\n",
    "hemanth = User('hemanth', 'Hemanth Jain', 'hemanth@example.com')\r\n",
    "jadhesh = User('jadhesh', 'Jadhesh Verma', 'jadhesh@example.com')\r\n",
    "siddhant = User('siddhant', 'Siddhant Sinha', 'siddhant@example.com')\r\n",
    "sonaksh = User('sonaksh', 'Sonaksh Kumar', 'sonaksh@example.com')\r\n",
    "vishal = User('vishal', 'Vishal Goel', 'vishal@example.com')"
   ]
  },
  {
   "cell_type": "code",
   "execution_count": 37,
   "metadata": {},
   "outputs": [],
   "source": [
    "users = [aakash, biraj, hemanth, jadhesh, siddhant, sonaksh, vishal]"
   ]
  },
  {
   "cell_type": "code",
   "execution_count": 38,
   "metadata": {},
   "outputs": [
    {
     "data": {
      "text/plain": [
       "('biraj', 'biraj@example.com', 'Biraj Das')"
      ]
     },
     "execution_count": 38,
     "metadata": {},
     "output_type": "execute_result"
    }
   ],
   "source": [
    "biraj.username, biraj.email, biraj.name"
   ]
  },
  {
   "cell_type": "code",
   "execution_count": 39,
   "metadata": {},
   "outputs": [
    {
     "name": "stdout",
     "output_type": "stream",
     "text": [
      "User(username = 'aakash', name = 'Aakash Rai', email = 'aakash@example.com'\n"
     ]
    }
   ],
   "source": [
    "print(aakash)"
   ]
  },
  {
   "cell_type": "code",
   "execution_count": 40,
   "metadata": {},
   "outputs": [
    {
     "data": {
      "text/plain": [
       "[User(username = 'aakash', name = 'Aakash Rai', email = 'aakash@example.com',\n",
       " User(username = 'biraj', name = 'Biraj Das', email = 'biraj@example.com',\n",
       " User(username = 'hemanth', name = 'Hemanth Jain', email = 'hemanth@example.com',\n",
       " User(username = 'jadhesh', name = 'Jadhesh Verma', email = 'jadhesh@example.com',\n",
       " User(username = 'siddhant', name = 'Siddhant Sinha', email = 'siddhant@example.com',\n",
       " User(username = 'sonaksh', name = 'Sonaksh Kumar', email = 'sonaksh@example.com',\n",
       " User(username = 'vishal', name = 'Vishal Goel', email = 'vishal@example.com']"
      ]
     },
     "execution_count": 40,
     "metadata": {},
     "output_type": "execute_result"
    }
   ],
   "source": [
    "users"
   ]
  },
  {
   "cell_type": "code",
   "execution_count": 41,
   "metadata": {},
   "outputs": [
    {
     "data": {
      "text/plain": [
       "True"
      ]
     },
     "execution_count": 41,
     "metadata": {},
     "output_type": "execute_result"
    }
   ],
   "source": [
    "'biraj' < 'hemanth'"
   ]
  },
  {
   "cell_type": "code",
   "execution_count": 52,
   "metadata": {},
   "outputs": [],
   "source": [
    "class UserDatabase:\r\n",
    "    def __init__(self):\r\n",
    "        self.users = []\r\n",
    "    def insert(self, user):\r\n",
    "        i = 0\r\n",
    "        while i < len(self.users):\r\n",
    "            if self.users[i] > user.username:\r\n",
    "                break\r\n",
    "            i += 1\r\n",
    "            self.users.insert(i, user)\r\n",
    "        print(self.users[i])\r\n",
    "    def find(self, username):\r\n",
    "        for user in users.username:\r\n",
    "            if user.username == users.username:\r\n",
    "                return user\r\n",
    "    def update(self, user):\r\n",
    "        target = self.find(user.username)\r\n",
    "        target.name, target.email = user.name, user.email\r\n",
    "    def list_all(self):\r\n",
    "        return self.users"
   ]
  },
  {
   "cell_type": "code",
   "execution_count": null,
   "metadata": {},
   "outputs": [],
   "source": []
  }
 ],
 "metadata": {
  "interpreter": {
   "hash": "63fd5069d213b44bf678585dea6b12cceca9941eaf7f819626cde1f2670de90d"
  },
  "kernelspec": {
   "display_name": "Python 3.9.4 64-bit",
   "name": "python3"
  },
  "language_info": {
   "codemirror_mode": {
    "name": "ipython",
    "version": 3
   },
   "file_extension": ".py",
   "mimetype": "text/x-python",
   "name": "python",
   "nbconvert_exporter": "python",
   "pygments_lexer": "ipython3",
   "version": "3.9.4"
  },
  "orig_nbformat": 4
 },
 "nbformat": 4,
 "nbformat_minor": 2
}