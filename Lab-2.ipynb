{
 "cells": [
  {
   "cell_type": "code",
   "execution_count": 6,
   "metadata": {},
   "outputs": [],
   "source": [
    "def readnum() :\n",
    "    nm = float(input(\"Enter Numbers : \"))\n",
    "    return nm"
   ]
  },
  {
   "cell_type": "code",
   "execution_count": 5,
   "metadata": {},
   "outputs": [],
   "source": [
    "def add() :\n",
    "    numarr = []\n",
    "    for i in range(4) :\n",
    "        n1 = readnum()\n",
    "        numarr.append(num)\n",
    "    print(numarr)\n"
   ]
  },
  {
   "cell_type": "code",
   "execution_count": 1,
   "metadata": {},
   "outputs": [],
   "source": [
    "def locate_card(cards, query):\r\n",
    "    pass"
   ]
  },
  {
   "cell_type": "code",
   "execution_count": 2,
   "metadata": {},
   "outputs": [],
   "source": [
    "cards = [13, 11,10, 7, 4, 3, 1, 0]\r\n",
    "query = 7\r\n",
    "output = 3"
   ]
  },
  {
   "cell_type": "code",
   "execution_count": 3,
   "metadata": {},
   "outputs": [
    {
     "name": "stdout",
     "output_type": "stream",
     "text": [
      "None\n"
     ]
    }
   ],
   "source": [
    "result = locate_card(cards, query)\r\n",
    "print(result)"
   ]
  },
  {
   "cell_type": "code",
   "execution_count": 4,
   "metadata": {},
   "outputs": [
    {
     "data": {
      "text/plain": [
       "False"
      ]
     },
     "execution_count": 4,
     "metadata": {},
     "output_type": "execute_result"
    }
   ],
   "source": [
    "result == output"
   ]
  },
  {
   "cell_type": "code",
   "execution_count": 7,
   "metadata": {},
   "outputs": [],
   "source": [
    "test = {\r\n",
    "    'input' : {\r\n",
    "        'cards' : [13, 11,10, 7, 4, 3, 1, 0],\r\n",
    "        'query' : 7\r\n",
    "    },\r\n",
    "    'output' : 3\r\n",
    "}"
   ]
  },
  {
   "cell_type": "code",
   "execution_count": 8,
   "metadata": {},
   "outputs": [
    {
     "data": {
      "text/plain": [
       "False"
      ]
     },
     "execution_count": 8,
     "metadata": {},
     "output_type": "execute_result"
    }
   ],
   "source": [
    "locate_card(**test['input']) == test['output']"
   ]
  },
  {
   "cell_type": "code",
   "execution_count": 9,
   "metadata": {},
   "outputs": [],
   "source": [
    "tests = []"
   ]
  },
  {
   "cell_type": "code",
   "execution_count": 10,
   "metadata": {},
   "outputs": [],
   "source": [
    "tests.append(test)\r\n",
    "\r\n",
    "tests.append({\r\n",
    "    'input' : {\r\n",
    "        'cards' : [13, 11,10, 7, 4, 3, 1, 0],\r\n",
    "        'query' : 1\r\n",
    "    },\r\n",
    "    'output' : 6\r\n",
    "})"
   ]
  },
  {
   "cell_type": "code",
   "execution_count": 11,
   "metadata": {},
   "outputs": [],
   "source": [
    "# if first\r\n",
    "tests.append({\r\n",
    "    'input' : {\r\n",
    "        'cards' : [4, 2, 1, -1],\r\n",
    "        'query' : 4\r\n",
    "    },\r\n",
    "    'output' : 0\r\n",
    "})"
   ]
  },
  {
   "cell_type": "code",
   "execution_count": 12,
   "metadata": {},
   "outputs": [],
   "source": [
    "# if last\r\n",
    "tests.append({\r\n",
    "    'input' : {\r\n",
    "        'cards' : [3, -1, -9, -127],\r\n",
    "        'query' : -127\r\n",
    "    },\r\n",
    "    'output' : 3\r\n",
    "})"
   ]
  },
  {
   "cell_type": "code",
   "execution_count": 13,
   "metadata": {},
   "outputs": [],
   "source": [
    "# only one element\r\n",
    "tests.append({\r\n",
    "    'input' : {\r\n",
    "        'cards' : [6],\r\n",
    "        'query' : 6\r\n",
    "    },\r\n",
    "    'output' : 0\r\n",
    "})"
   ]
  },
  {
   "cell_type": "code",
   "execution_count": 15,
   "metadata": {},
   "outputs": [
    {
     "data": {
      "text/plain": [
       "[{'input': {'cards': [13, 11, 10, 7, 4, 3, 1, 0], 'query': 7}, 'output': 3},\n",
       " {'input': {'cards': [13, 11, 10, 7, 4, 3, 1, 0], 'query': 1}, 'output': 6},\n",
       " {'input': {'cards': [4, 2, 1, -1], 'query': 4}, 'output': 0},\n",
       " {'input': {'cards': [3, -1, -9, -127], 'query': -127}, 'output': 3},\n",
       " {'input': {'cards': [6], 'query': 6}, 'output': 0}]"
      ]
     },
     "execution_count": 15,
     "metadata": {},
     "output_type": "execute_result"
    }
   ],
   "source": [
    "tests"
   ]
  },
  {
   "cell_type": "code",
   "execution_count": 16,
   "metadata": {},
   "outputs": [],
   "source": [
    "def locate_card(cards, query):\r\n",
    "    position = 0\r\n",
    "    while position < len(cards):\r\n",
    "        if cards[position] == query:\r\n",
    "            return position\r\n",
    "        position += 1\r\n",
    "        if position == len(cards):\r\n",
    "            return -1"
   ]
  },
  {
   "cell_type": "code",
   "execution_count": 21,
   "metadata": {},
   "outputs": [
    {
     "data": {
      "text/plain": [
       "3"
      ]
     },
     "execution_count": 21,
     "metadata": {},
     "output_type": "execute_result"
    }
   ],
   "source": [
    "# result = locate_card(test['input']['cards'], test['input']['query'])\r\n",
    "result = locate_card(**test['input'])\r\n",
    "result"
   ]
  },
  {
   "cell_type": "code",
   "execution_count": 25,
   "metadata": {},
   "outputs": [
    {
     "data": {
      "text/plain": [
       "True"
      ]
     },
     "execution_count": 25,
     "metadata": {},
     "output_type": "execute_result"
    }
   ],
   "source": [
    "result == output"
   ]
  },
  {
   "cell_type": "code",
   "execution_count": 26,
   "metadata": {},
   "outputs": [],
   "source": [
    "def locate_card_bins(cards, query):\r\n",
    "    lo, hi = 0, len(cards) - 1\r\n",
    "\r\n",
    "    while lo <= hi:\r\n",
    "        mid = (lo + hi) // 2\r\n",
    "        mid_number = cards[mid]\r\n",
    "        print(\"lo: {}, hi: {}, mid: {}, mid_no: {}\".format(lo, hi, mid, mid_number))\r\n",
    "        if mid_number == query:\r\n",
    "            return mid\r\n",
    "        elif mid_number < query:\r\n",
    "            hi = mid -1\r\n",
    "        elif mid_number > query:\r\n",
    "            lo = mid + 1\r\n",
    "    return -1\r\n"
   ]
  },
  {
   "cell_type": "code",
   "execution_count": 70,
   "metadata": {},
   "outputs": [],
   "source": [
    "def test_location(cards, query, mid):\r\n",
    "    mid_number = cards[mid]\r\n",
    "    print(\"mid: {}, mid_number: {}\".format(mid, mid_number))\r\n",
    "    if mid_number == query:\r\n",
    "        if mid-1 >= 0 and cards[mid-1] == query:\r\n",
    "            return 'left'\r\n",
    "        else:\r\n",
    "            return 'found'\r\n",
    "    elif mid_number < query:\r\n",
    "        return 'left'\r\n",
    "    else:\r\n",
    "        return 'right'\r\n",
    "\r\n",
    "def locate_card(cards, query):\r\n",
    "    lo, hi = 0, len(cards)-1\r\n",
    "\r\n",
    "    while lo <= hi:\r\n",
    "        print(\"lo: {}, hi: {}\".format(lo, hi))\r\n",
    "        mid = (lo+hi)//2\r\n",
    "        result = test_location(cards, query, mid)\r\n",
    "\r\n",
    "        if result == 'found':\r\n",
    "            return mid\r\n",
    "        elif result == 'left':\r\n",
    "            hi = mid-1\r\n",
    "        elif result == 'right':\r\n",
    "            lo = mid+1\r\n",
    "    return -1"
   ]
  },
  {
   "cell_type": "code",
   "execution_count": 56,
   "metadata": {},
   "outputs": [
    {
     "name": "stdout",
     "output_type": "stream",
     "text": [
      "[6567, 54, 45, 34, 34, 5, 4, 3, 2, 1, 1, 1, 1, 1]\n"
     ]
    }
   ],
   "source": [
    "temp = [1,1,1,1,1,2,34,34,3,4,54,6567,5,45]\r\n",
    "list.sort(temp)\r\n",
    "list.reverse(temp)\r\n",
    "print(temp)"
   ]
  },
  {
   "cell_type": "code",
   "execution_count": 67,
   "metadata": {},
   "outputs": [],
   "source": [
    "tests.append({\r\n",
    "    'input' : {\r\n",
    "        'cards' : [6567, 54, 45, 34, 34, 5, 4, 3, 2, 1, 1, 1, 1, 1],\r\n",
    "        'query' : 1\r\n",
    "    },\r\n",
    "    'output' : 9\r\n",
    "})"
   ]
  },
  {
   "cell_type": "code",
   "execution_count": 68,
   "metadata": {},
   "outputs": [
    {
     "data": {
      "text/plain": [
       "{'input': {'cards': [8, 8, 6, 6, 6, 6, 6, 6, 3, 2, 2, 2, 0, 0, 0], 'query': 6},\n",
       " 'output': 2}"
      ]
     },
     "execution_count": 68,
     "metadata": {},
     "output_type": "execute_result"
    }
   ],
   "source": [
    "tests[]"
   ]
  },
  {
   "cell_type": "code",
   "execution_count": 72,
   "metadata": {},
   "outputs": [
    {
     "name": "stdout",
     "output_type": "stream",
     "text": [
      "lo: 0, hi: 7\n",
      "mid: 3, mid_number: 7\n"
     ]
    },
    {
     "data": {
      "text/plain": [
       "-1"
      ]
     },
     "execution_count": 72,
     "metadata": {},
     "output_type": "execute_result"
    }
   ],
   "source": [
    "cards6 = tests[5]['input']['cards']\r\n",
    "query6 = tests[5]['input']['query']\r\n",
    "\r\n",
    "locate_card(cards6, query6)\r\n",
    "result# == output"
   ]
  }
 ],
 "metadata": {
  "interpreter": {
   "hash": "57baa5815c940fdaff4d14510622de9616cae602444507ba5d0b6727c008cbd6"
  },
  "kernelspec": {
   "display_name": "Python 3.7.8 64-bit",
   "name": "python3"
  },
  "language_info": {
   "name": "python",
   "version": ""
  },
  "orig_nbformat": 4
 },
 "nbformat": 4,
 "nbformat_minor": 2
}